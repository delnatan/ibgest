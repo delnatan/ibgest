{
 "cells": [
  {
   "cell_type": "code",
   "execution_count": 8,
   "id": "3e394a14-61c7-4024-a958-d2d0e545b77e",
   "metadata": {},
   "outputs": [
    {
     "name": "stderr",
     "output_type": "stream",
     "text": [
      "2024-09-20 10:22:37,265 - ibgest - INFO - Logging level set to DEBUG\n"
     ]
    },
    {
     "name": "stdout",
     "output_type": "stream",
     "text": [
      "The autoreload extension is already loaded. To reload it, use:\n",
      "  %reload_ext autoreload\n"
     ]
    }
   ],
   "source": [
    "import napari\n",
    "import nd2\n",
    "import tifffile\n",
    "import numpy as np\n",
    "from ibgest.estimation import iterative_background_estimate\n",
    "from ibgest.config import set_logging_level\n",
    "\n",
    "set_logging_level(\"DEBUG\")\n",
    "\n",
    "%load_ext autoreload\n",
    "%autoreload 2"
   ]
  },
  {
   "cell_type": "code",
   "execution_count": 2,
   "id": "c516a821-088b-45bf-9435-45a2fcad21b5",
   "metadata": {},
   "outputs": [],
   "source": [
    "wtribo = nd2.imread(\"/Users/delnatan/Library/CloudStorage/Box-Box/GEM manuscript/\"\n",
    "                    \"Ribosome_data_3D/CZ18018_wt/CZ18018_wt_02.nd2\")"
   ]
  },
  {
   "cell_type": "code",
   "execution_count": 3,
   "id": "fad890b7-9f45-4f76-b86e-31ae785c3425",
   "metadata": {},
   "outputs": [],
   "source": [
    "viewer = napari.Viewer()"
   ]
  },
  {
   "cell_type": "code",
   "execution_count": 4,
   "id": "6a58cea6-3922-47fd-85f9-aec123542f84",
   "metadata": {},
   "outputs": [
    {
     "data": {
      "text/plain": [
       "<Image layer 'wt' at 0x31285a610>"
      ]
     },
     "execution_count": 4,
     "metadata": {},
     "output_type": "execute_result"
    }
   ],
   "source": [
    "viewer.add_image(wtribo, name=\"wt\")"
   ]
  },
  {
   "cell_type": "code",
   "execution_count": 15,
   "id": "f0809f52-e87d-4dbb-b8b0-0ea6a7dac5d2",
   "metadata": {},
   "outputs": [
    {
     "name": "stderr",
     "output_type": "stream",
     "text": [
      "2024-09-20 10:25:14,545 - ibgest - INFO - Using device: mps\n",
      "2024-09-20 10:25:16,096 - ibgest - DEBUG - Iteration 1, relative change = 1.0775E-01\n",
      "2024-09-20 10:25:16,589 - ibgest - DEBUG - Iteration 2, relative change = 5.4531E-02\n",
      "2024-09-20 10:25:16,945 - ibgest - DEBUG - Iteration 3, relative change = 3.3001E-02\n",
      "2024-09-20 10:25:17,292 - ibgest - DEBUG - Iteration 4, relative change = 2.2628E-02\n",
      "2024-09-20 10:25:17,743 - ibgest - DEBUG - Iteration 5, relative change = 1.6915E-02\n",
      "2024-09-20 10:25:18,090 - ibgest - DEBUG - Iteration 6, relative change = 1.3433E-02\n",
      "2024-09-20 10:25:18,433 - ibgest - DEBUG - Iteration 7, relative change = 1.1129E-02\n",
      "2024-09-20 10:25:18,775 - ibgest - DEBUG - Iteration 8, relative change = 9.5052E-03\n"
     ]
    }
   ],
   "source": [
    "\n",
    "bg = iterative_background_estimate(\n",
    "    wtribo.astype(np.float32),\n",
    "    (3, 40, 40)\n",
    ")"
   ]
  },
  {
   "cell_type": "code",
   "execution_count": 16,
   "id": "9963a32f-566e-4b26-82ab-f733c902995f",
   "metadata": {},
   "outputs": [
    {
     "data": {
      "text/plain": [
       "<Image layer 'background' at 0x3abeae890>"
      ]
     },
     "execution_count": 16,
     "metadata": {},
     "output_type": "execute_result"
    }
   ],
   "source": [
    "viewer.add_image(bg, name=\"background\", colormap=\"viridis\")"
   ]
  },
  {
   "cell_type": "code",
   "execution_count": null,
   "id": "b435623e-fe58-467d-9a40-4e801cdc49da",
   "metadata": {},
   "outputs": [],
   "source": []
  }
 ],
 "metadata": {
  "kernelspec": {
   "display_name": "torch (Python 3.11)",
   "language": "python",
   "name": "torch"
  },
  "language_info": {
   "codemirror_mode": {
    "name": "ipython",
    "version": 3
   },
   "file_extension": ".py",
   "mimetype": "text/x-python",
   "name": "python",
   "nbconvert_exporter": "python",
   "pygments_lexer": "ipython3",
   "version": "3.11.10"
  }
 },
 "nbformat": 4,
 "nbformat_minor": 5
}
